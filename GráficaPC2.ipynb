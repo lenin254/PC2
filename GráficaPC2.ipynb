{
  "nbformat": 4,
  "nbformat_minor": 0,
  "metadata": {
    "colab": {
      "private_outputs": true,
      "provenance": [],
      "gpuType": "T4"
    },
    "kernelspec": {
      "name": "python3",
      "display_name": "Python 3"
    },
    "language_info": {
      "name": "python"
    },
    "accelerator": "GPU"
  },
  "cells": [
    {
      "cell_type": "code",
      "source": [
        "#!pip install q keras==2.2.4\n",
        "#!pip install tensorflow==1.14.0\n",
        "!pip install q keras==2.13.1\n",
        "!pip install tensorflow==2.13.0"
      ],
      "metadata": {
        "id": "VLZYdRYszoHV"
      },
      "execution_count": null,
      "outputs": []
    },
    {
      "cell_type": "code",
      "metadata": {
        "id": "M4tg9AulnhRa"
      },
      "source": [
        "import numpy as np\n",
        "import matplotlib.pyplot as plt\n",
        "from skimage.transform import resize\n",
        "from sklearn.model_selection import train_test_split"
      ],
      "execution_count": null,
      "outputs": []
    },
    {
      "cell_type": "code",
      "metadata": {
        "id": "f2pbBqnSLYc8"
      },
      "source": [
        "!nvidia-smi"
      ],
      "execution_count": null,
      "outputs": []
    },
    {
      "cell_type": "code",
      "source": [
        "##    Obtenemos los .npy de google drive.\n",
        "\n",
        "!gdown 1pbyR5AMrnoJMNKLFpB95_6DlwyU3URx0\n",
        "!gdown 1JgZTk7PzjeA-MZ6Ow8JGrhMU9YByfmvo\n",
        "\n",
        "#https://drive.google.com/file/d/1pbyR5AMrnoJMNKLFpB95_6DlwyU3URx0/view?usp=sharing\n",
        "#https://drive.google.com/file/d/1JgZTk7PzjeA-MZ6Ow8JGrhMU9YByfmvo/view?usp=sharing\n"
      ],
      "metadata": {
        "id": "38JYayzO5yz9"
      },
      "execution_count": null,
      "outputs": []
    },
    {
      "cell_type": "code",
      "source": [
        "X_raw = np.load('X.npy')\n",
        "#X_raw = X_raw/255\n",
        "print(len(X_raw))\n",
        "print(len(X_raw[1]))\n",
        "print(len(X_raw[1][1]))\n",
        "print(X_raw[1][1][1])"
      ],
      "metadata": {
        "id": "U_khTT8hLs1h"
      },
      "execution_count": null,
      "outputs": []
    },
    {
      "cell_type": "markdown",
      "metadata": {
        "id": "L3cG-u68k4NB"
      },
      "source": [
        "### Preparar datos"
      ]
    },
    {
      "cell_type": "code",
      "metadata": {
        "id": "DOzikEiN9niE"
      },
      "source": [
        "X_raw = np.load('X.npy')\n",
        "X_raw = X_raw/255.\n",
        "y = np.load('y.npy')\n",
        "X = []\n",
        "size = (28,28)\n",
        "for x in X_raw:\n",
        "    X.append(resize(x, size))\n",
        "X = np.array(X)\n",
        "#X[14]"
      ],
      "execution_count": null,
      "outputs": []
    },
    {
      "cell_type": "code",
      "metadata": {
        "id": "Us59s3Blpi_y"
      },
      "source": [
        "plt.figure()\n",
        "plt.title(\"Cantidad de muestras x dígito\")\n",
        "plt.ylabel(\"Cantidad\")\n",
        "plt.xlabel(\"Día de la semana\")\n",
        "plt.hist(y, bins=10)\n",
        "plt.plot()\n",
        "y"
      ],
      "execution_count": null,
      "outputs": []
    },
    {
      "cell_type": "markdown",
      "metadata": {
        "id": "VnygyOx_kVgV"
      },
      "source": [
        "### Visualizando el `dataset`"
      ]
    },
    {
      "cell_type": "code",
      "metadata": {
        "id": "XPuhkifOjMas"
      },
      "source": [
        "plt.figure(figsize=(20,10))\n",
        "for i in range(25):\n",
        "    plt.subplot(5,5, i+1)\n",
        "    idx = np.random.choice(X.shape[0], 1)[0]\n",
        "    plt.title('id:{} val:{}'.format(idx, y[idx] ))\n",
        "    plt.imshow(-X[idx], cmap='gray')\n",
        "    plt.axis('off')\n",
        "plt.show()"
      ],
      "execution_count": null,
      "outputs": []
    },
    {
      "cell_type": "markdown",
      "metadata": {
        "id": "ADHOOaWik7BQ"
      },
      "source": [
        "### Split de train-test"
      ]
    },
    {
      "cell_type": "code",
      "source": [
        "X.shape"
      ],
      "metadata": {
        "id": "VF2_YHPk24kz"
      },
      "execution_count": null,
      "outputs": []
    },
    {
      "cell_type": "code",
      "source": [
        "#Convertimos y a un array de números\n",
        "print(y.shape[0])\n",
        "print(y[2])\n",
        "y_n = np.empty((y.shape[0]))\n",
        "\n",
        "for i in range(y.shape[0]):\n",
        "    if y[i] == 'Lunes': y_n[i] = 0;\n",
        "    if y[i] == 'Martes': y_n[i] = 1;\n",
        "    if y[i] == 'Miercoles': y_n[i] = 2;\n",
        "    if y[i] == 'Jueves': y_n[i] = 3;\n",
        "    if y[i] == 'Viernes': y_n[i] = 4;\n",
        "    if y[i] == 'Sabado': y_n[i] = 5;\n",
        "    if y[i] == 'Domingo': y_n[i] = 6;\n",
        "\n",
        "y_n\n"
      ],
      "metadata": {
        "id": "cxhkaG56265Q"
      },
      "execution_count": null,
      "outputs": []
    },
    {
      "cell_type": "code",
      "metadata": {
        "id": "npamkfojIxjF"
      },
      "source": [
        "#Separamos el dataset en un grupo de entrenamiento y uno de testeo.\n",
        "X_train, X_test, y_train, y_test = train_test_split(X, y_n, test_size=0.20, random_state=42, stratify=y)"
      ],
      "execution_count": null,
      "outputs": []
    },
    {
      "cell_type": "code",
      "metadata": {
        "id": "naSOHz06XiAL"
      },
      "source": [
        "plt.figure()\n",
        "plt.title(\"Cantidad de muestras x dígito (train)\")\n",
        "plt.ylabel(\"Cantidad\")\n",
        "plt.xlabel(\"Día de la semana\")\n",
        "plt.hist(y_train, bins=10)\n",
        "plt.plot()"
      ],
      "execution_count": null,
      "outputs": []
    },
    {
      "cell_type": "code",
      "metadata": {
        "id": "ze4tCjwWXp6u"
      },
      "source": [
        "plt.figure()\n",
        "plt.title(\"Cantidad de muestras x dígito (test)\")\n",
        "plt.ylabel(\"Cantidad\")\n",
        "plt.xlabel(\"Día de la semana\")\n",
        "plt.hist(y_test, bins=10)\n",
        "plt.plot()"
      ],
      "execution_count": null,
      "outputs": []
    },
    {
      "cell_type": "code",
      "metadata": {
        "id": "YICha4VOORNe"
      },
      "source": [
        "# Ajustamos las dimensiones de las imágenes\n",
        "print(X_train.shape, X_test.shape)\n",
        "if X_train.ndim == 3:\n",
        "    X_train = X_train[...,None]\n",
        "    X_test = X_test[..., None]\n",
        "    print(X_train.shape, X_test.shape)"
      ],
      "execution_count": null,
      "outputs": []
    },
    {
      "cell_type": "markdown",
      "metadata": {
        "id": "QNFock6RrosL"
      },
      "source": [
        "## Definimos un modelo"
      ]
    },
    {
      "cell_type": "code",
      "metadata": {
        "id": "pfe9qQgProsM"
      },
      "source": [
        "#from tensorflow.python.keras.models import Sequential\n",
        "#from tensorflow.python.keras.layers import Dense, Conv2D, MaxPool2D, Flattenf\n",
        "from keras.models import Sequential\n",
        "from keras.layers import Dense, Conv2D, MaxPool2D, Flatten\n",
        "from keras.optimizers import SGD\n",
        "\n",
        "bs = 16\n",
        "lr = 0.0005\n",
        "\n",
        "#Espacio de busqueda\n",
        "#Cantidad Filtros: 32, 64, 128, 256\n",
        "#Tamaño del Filtro: 3, 5, 7\n",
        "#Activaciones: 'relu', 'sigmoid', 'tanh'\n",
        "#Unidades Dense: 128, 256, 100..\n",
        "#lr: 0.001, 0.0001, 0.00001, etc\n",
        "#bs: 8, 16, 32...\n",
        "\n",
        "model = Sequential([Conv2D(32, 3, activation='relu', input_shape=(*size,1)),\n",
        "                    MaxPool2D(),\n",
        "                    Conv2D(64, 3, activation='relu', padding ='same'),\n",
        "                    MaxPool2D(),\n",
        "                    Conv2D(128, 3, activation='relu', padding ='same'),\n",
        "                    MaxPool2D(),\n",
        "                    Flatten(),\n",
        "                    Dense(128, activation='relu'), #modificar!\n",
        "                    Dense(7, activation='softmax')]) #no modificar\n",
        "\n",
        "optimizer1=SGD(learning_rate=lr)\n",
        "model.compile(optimizer= optimizer1, loss='sparse_categorical_crossentropy' , metrics=['accuracy'])\n",
        "# La pérdida 'sparse_categorical_crossentropy' realiza automaticamente la conversión\n",
        "# del target a one-hot encoding.\n",
        "\n",
        "model.summary()"
      ],
      "execution_count": null,
      "outputs": []
    },
    {
      "cell_type": "markdown",
      "metadata": {
        "id": "ViSNqBdCrosX"
      },
      "source": [
        "## Entrenamiento"
      ]
    },
    {
      "cell_type": "code",
      "metadata": {
        "scrolled": true,
        "id": "CLPujN72rosZ"
      },
      "source": [
        "log = model.fit(X_train, y_train, batch_size=bs, epochs=400, validation_data=(X_test, y_test))"
      ],
      "execution_count": null,
      "outputs": []
    },
    {
      "cell_type": "code",
      "metadata": {
        "id": "3NVXu4Njrosb"
      },
      "source": [
        "def show_results(model, log):\n",
        "    loss, acc = model.evaluate(X_test, y_test, batch_size=512, verbose=False)\n",
        "    print(f'Loss     = {loss:.4f}')\n",
        "    print(f'Accuracy = {acc:.4f}')\n",
        "    val_loss = log.history['val_loss']\n",
        "    val_acc = log.history['val_accuracy']\n",
        "    fig, axes = plt.subplots(1, 2, figsize=(14,4))\n",
        "    ax1, ax2 = axes\n",
        "    ax1.plot(log.history['loss'], label='train')\n",
        "    ax1.plot(val_loss, label='test')\n",
        "    ax1.set_xlabel('epoch'); ax1.set_ylabel('loss')\n",
        "    ax2.plot(log.history['accuracy'], label='train')\n",
        "    ax2.plot(val_acc, label='test')\n",
        "    ax2.set_xlabel('epoch'); ax2.set_ylabel('acc')\n",
        "    for ax in axes: ax.legend()"
      ],
      "execution_count": null,
      "outputs": []
    },
    {
      "cell_type": "code",
      "metadata": {
        "id": "u2gq4oP4rose"
      },
      "source": [
        "show_results(model, log)"
      ],
      "execution_count": null,
      "outputs": []
    },
    {
      "cell_type": "markdown",
      "metadata": {
        "id": "qNgZtFfylqyS"
      },
      "source": [
        "## Probando el modelo"
      ]
    },
    {
      "cell_type": "code",
      "metadata": {
        "id": "68Sohfl7g5BT"
      },
      "source": [
        "idx = np.random.choice(X_test.shape[0], 1)[0]\n",
        "im = X_test[idx]\n",
        "label = y_test[idx]\n",
        "\n",
        "days = ['Lunes', 'Martes', 'Miercoles', 'Jueves', 'Viernes', 'Sabado', 'Domingo']\n",
        "\n",
        "label_n = days[round(label)]\n",
        "\n",
        "plt.title('(test) id:{} val:{}'.format(idx, label_n ))\n",
        "plt.axis('off')\n",
        "plt.imshow(-im[:,:,0], cmap='gray')\n",
        "plt.show()"
      ],
      "execution_count": null,
      "outputs": []
    },
    {
      "cell_type": "markdown",
      "metadata": {
        "id": "v3W6WqMvmRP5"
      },
      "source": [
        "## Usando el modelo entrenado"
      ]
    },
    {
      "cell_type": "code",
      "metadata": {
        "id": "arNeSd_gmB2Y"
      },
      "source": [
        "salida = model.predict(im[None,:,:,:])[0]\n",
        "salida\n",
        "#im[None,:,:,:]"
      ],
      "execution_count": null,
      "outputs": []
    },
    {
      "cell_type": "code",
      "metadata": {
        "id": "kxGGKcpIm7Ch"
      },
      "source": [
        "plt.figure()\n",
        "plt.title(\"Predicción: {} Label: {}\".format(salida.argmax(), days[round(label)] ))\n",
        "plt.ylabel(\"Probabilidad\")\n",
        "plt.xlabel(\"Día\")\n",
        "plt.ylim([0,1])\n",
        "#plt.bar(np.arange(7), salida)\n",
        "plt.bar(days, salida)\n",
        "plt.plot()"
      ],
      "execution_count": null,
      "outputs": []
    },
    {
      "cell_type": "code",
      "metadata": {
        "id": "0yQxdb_8oFwZ"
      },
      "source": [],
      "execution_count": null,
      "outputs": []
    }
  ]
}